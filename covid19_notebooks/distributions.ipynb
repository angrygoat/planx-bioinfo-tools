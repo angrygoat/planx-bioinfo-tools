{
 "cells": [
  {
   "cell_type": "code",
   "execution_count": 136,
   "metadata": {},
   "outputs": [],
   "source": [
    "import numpy.random as R\n",
    "import matplotlib.pyplot as plt\n",
    "import numpy as np\n",
    "from scipy import stats\n",
    "import json"
   ]
  },
  {
   "cell_type": "code",
   "execution_count": 137,
   "metadata": {},
   "outputs": [
    {
     "name": "stdout",
     "output_type": "stream",
     "text": [
      "(shape, scale): (2.5, 5)\n",
      "mean:  4.448041106946465\n",
      "median:  4.312999207632455\n"
     ]
    },
    {
     "data": {
      "image/png": "[encoded data removed]",
      "text/plain": [
       "<Figure size 432x288 with 1 Axes>"
      ]
     },
     "metadata": {
      "needs_background": "light"
     },
     "output_type": "display_data"
    }
   ],
   "source": [
    "# shape parameter\n",
    "alpha = 2.5\n",
    "\n",
    "# scale parameter\n",
    "beta = 5\n",
    "\n",
    "# draw from unscaled Weibull distribution with shape alpha\n",
    "samples = R.weibull(alpha, 10000)\n",
    "\n",
    "# scale the distribution by beta\n",
    "samples = np.multiply(samples, beta)\n",
    "\n",
    "# view measures of center and histogram\n",
    "print(\"(shape, scale): (%s, %s)\" % (alpha, beta))\n",
    "print(\"mean: \", np.mean(samples))\n",
    "print(\"median: \", np.median(samples))\n",
    "plt.hist(samples, 20, density=True)\n",
    "plt.show()"
   ]
  },
  {
   "cell_type": "code",
   "execution_count": 138,
   "metadata": {},
   "outputs": [],
   "source": [
    "def weibull(x, alpha, beta):\n",
    "     return (alpha / beta) * (x / beta)**(alpha - 1) * np.exp(-(x / beta)**alpha)"
   ]
  },
  {
   "cell_type": "code",
   "execution_count": 139,
   "metadata": {},
   "outputs": [
    {
     "data": {
      "image/png": "[encoded data removed]",
      "text/plain": [
       "<Figure size 432x288 with 1 Axes>"
      ]
     },
     "metadata": {
      "needs_background": "light"
     },
     "output_type": "display_data"
    }
   ],
   "source": [
    "# visualize density\n",
    "\n",
    "x = np.linspace(0,np.max(samples)+2, 100)\n",
    "plt.plot(x, weibull(x, alpha, beta))\n",
    "plt.show()"
   ]
  },
  {
   "cell_type": "code",
   "execution_count": 140,
   "metadata": {},
   "outputs": [],
   "source": [
    "# test box\n",
    "\n",
    "# a = [1, 2, 3]\n",
    "# np.multiply(a, 3)"
   ]
  },
  {
   "cell_type": "code",
   "execution_count": 154,
   "metadata": {},
   "outputs": [],
   "source": [
    "# functions for tuning Weibull distribution parameters to yield a given mean\n",
    "\n",
    "def weibullMeans(alphaRange, betaRange):\n",
    "    '''\n",
    "    computes expected value for each pair of \n",
    "    (alpha, beta) in the cross-product of arrays alphaRange and betaRange\n",
    "    '''\n",
    "    results = []\n",
    "    for alpha in alphaRange:\n",
    "        for beta in betaRange:\n",
    "            samples = R.weibull(alpha, 10000)\n",
    "            samples = np.multiply(samples, beta)\n",
    "            mu = np.mean(samples)\n",
    "            results.append(((alpha, beta), mu))\n",
    "    return results\n",
    "\n",
    "def filterMeans(means, target, margin):\n",
    "    out = []\n",
    "    for mean in means:\n",
    "        if abs(mean[1] - target) < margin:\n",
    "            out.append(mean)\n",
    "    return out\n",
    "\n",
    "def getClosest(means, target):\n",
    "    minErr = 100\n",
    "    out = ()\n",
    "    for mean in means:\n",
    "        err = abs(mean[1] - target)\n",
    "        if err < minErr:\n",
    "            minErr = err\n",
    "            out = mean\n",
    "    return out\n",
    "\n",
    "def tuneParams(target):\n",
    "    alphaRange = np.linspace(1,4,50)\n",
    "    betaRange = np.linspace(3,12,50)\n",
    "    \n",
    "    unfiltered = weibullMeans(alphaRange, betaRange)\n",
    "    params = getClosest(unfiltered, target)\n",
    "    \n",
    "    return params\n",
    "\n",
    "def tuneToTargets(targets):\n",
    "    out = []\n",
    "    for target in targets:\n",
    "        tuned = tuneParams(target)\n",
    "        r = {\n",
    "            \"target\": target,\n",
    "            \"approx\": tuned[1],\n",
    "            \"error\": abs(target-tuned[1]),\n",
    "            \"alpha\": tuned[0][0],\n",
    "            \"beta\": tuned[0][1]\n",
    "        }\n",
    "        out.append(r)\n",
    "    return out"
   ]
  },
  {
   "cell_type": "code",
   "execution_count": 155,
   "metadata": {},
   "outputs": [],
   "source": [
    "# tune a Weibull distribution for each target mean\n",
    "\n",
    "targets = [4.6, 4, 8, 6, 10]\n",
    "tunedParams = tuneToTargets(targets)"
   ]
  },
  {
   "cell_type": "code",
   "execution_count": 159,
   "metadata": {},
   "outputs": [
    {
     "name": "stdout",
     "output_type": "stream",
     "text": [
      "[\n",
      "    {\n",
      "        \"target\": 4.6,\n",
      "        \"approx\": 4.602861878706434,\n",
      "        \"error\": 0.0028618787064340623,\n",
      "        \"alpha\": 1.4285714285714286,\n",
      "        \"beta\": 5.020408163265307\n",
      "    },\n",
      "    {\n",
      "        \"target\": 4,\n",
      "        \"approx\": 3.99857367511919,\n",
      "        \"error\": 0.0014263248808101814,\n",
      "        \"alpha\": 1.183673469387755,\n",
      "        \"beta\": 4.285714285714286\n",
      "    },\n",
      "    {\n",
      "        \"target\": 8,\n",
      "        \"approx\": 7.998692149329932,\n",
      "        \"error\": 0.0013078506700683334,\n",
      "        \"alpha\": 1.8571428571428572,\n",
      "        \"beta\": 9.061224489795919\n",
      "    },\n",
      "    {\n",
      "        \"target\": 6,\n",
      "        \"approx\": 5.99729509958473,\n",
      "        \"error\": 0.0027049004152699396,\n",
      "        \"alpha\": 1.306122448979592,\n",
      "        \"beta\": 6.4897959183673475\n",
      "    },\n",
      "    {\n",
      "        \"target\": 10,\n",
      "        \"approx\": 10.001797341160152,\n",
      "        \"error\": 0.0017973411601523992,\n",
      "        \"alpha\": 3.693877551020408,\n",
      "        \"beta\": 11.081632653061225\n",
      "    }\n",
      "]\n"
     ]
    }
   ],
   "source": [
    "# look at those beautifully tuned parameters\n",
    "\n",
    "# HERE! annotate this, make it look nicer, so I know what I'm actually approximating here\n",
    "\n",
    "print(json.dumps(tunedParams, indent=4))"
   ]
  },
  {
   "cell_type": "code",
   "execution_count": null,
   "metadata": {},
   "outputs": [],
   "source": []
  }
 ],
 "metadata": {
  "kernelspec": {
   "display_name": "Python 3",
   "language": "python",
   "name": "python3"
  },
  "language_info": {
   "codemirror_mode": {
    "name": "ipython",
    "version": 3
   },
   "file_extension": ".py",
   "mimetype": "text/x-python",
   "name": "python",
   "nbconvert_exporter": "python",
   "pygments_lexer": "ipython3",
   "version": "3.7.2"
  }
 },
 "nbformat": 4,
 "nbformat_minor": 4
}
